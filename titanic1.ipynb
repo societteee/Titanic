{
 "cells": [
  {
   "cell_type": "code",
   "execution_count": 418,
   "metadata": {
    "_cell_guid": "b1076dfc-b9ad-4769-8c92-a6c4dae69d19",
    "_uuid": "8f2839f25d086af736a60e9eeb907d3b93b6e0e5"
   },
   "outputs": [],
   "source": [
    "import pandas as pd \n",
    "import numpy as np\n",
    "# импортировали библиотеки "
   ]
  },
  {
   "cell_type": "code",
   "execution_count": 419,
   "metadata": {},
   "outputs": [
    {
     "data": {
      "text/html": [
       "<div>\n",
       "<style scoped>\n",
       "    .dataframe tbody tr th:only-of-type {\n",
       "        vertical-align: middle;\n",
       "    }\n",
       "\n",
       "    .dataframe tbody tr th {\n",
       "        vertical-align: top;\n",
       "    }\n",
       "\n",
       "    .dataframe thead th {\n",
       "        text-align: right;\n",
       "    }\n",
       "</style>\n",
       "<table border=\"1\" class=\"dataframe\">\n",
       "  <thead>\n",
       "    <tr style=\"text-align: right;\">\n",
       "      <th></th>\n",
       "      <th>PassengerId</th>\n",
       "      <th>Survived</th>\n",
       "      <th>Pclass</th>\n",
       "      <th>Name</th>\n",
       "      <th>Sex</th>\n",
       "      <th>Age</th>\n",
       "      <th>SibSp</th>\n",
       "      <th>Parch</th>\n",
       "      <th>Ticket</th>\n",
       "      <th>Fare</th>\n",
       "      <th>Cabin</th>\n",
       "      <th>Embarked</th>\n",
       "    </tr>\n",
       "  </thead>\n",
       "  <tbody>\n",
       "    <tr>\n",
       "      <th>0</th>\n",
       "      <td>1</td>\n",
       "      <td>0</td>\n",
       "      <td>3</td>\n",
       "      <td>Braund, Mr. Owen Harris</td>\n",
       "      <td>male</td>\n",
       "      <td>22.0</td>\n",
       "      <td>1</td>\n",
       "      <td>0</td>\n",
       "      <td>A/5 21171</td>\n",
       "      <td>7.2500</td>\n",
       "      <td>NaN</td>\n",
       "      <td>S</td>\n",
       "    </tr>\n",
       "    <tr>\n",
       "      <th>1</th>\n",
       "      <td>2</td>\n",
       "      <td>1</td>\n",
       "      <td>1</td>\n",
       "      <td>Cumings, Mrs. John Bradley (Florence Briggs Th...</td>\n",
       "      <td>female</td>\n",
       "      <td>38.0</td>\n",
       "      <td>1</td>\n",
       "      <td>0</td>\n",
       "      <td>PC 17599</td>\n",
       "      <td>71.2833</td>\n",
       "      <td>C85</td>\n",
       "      <td>C</td>\n",
       "    </tr>\n",
       "    <tr>\n",
       "      <th>2</th>\n",
       "      <td>3</td>\n",
       "      <td>1</td>\n",
       "      <td>3</td>\n",
       "      <td>Heikkinen, Miss. Laina</td>\n",
       "      <td>female</td>\n",
       "      <td>26.0</td>\n",
       "      <td>0</td>\n",
       "      <td>0</td>\n",
       "      <td>STON/O2. 3101282</td>\n",
       "      <td>7.9250</td>\n",
       "      <td>NaN</td>\n",
       "      <td>S</td>\n",
       "    </tr>\n",
       "    <tr>\n",
       "      <th>3</th>\n",
       "      <td>4</td>\n",
       "      <td>1</td>\n",
       "      <td>1</td>\n",
       "      <td>Futrelle, Mrs. Jacques Heath (Lily May Peel)</td>\n",
       "      <td>female</td>\n",
       "      <td>35.0</td>\n",
       "      <td>1</td>\n",
       "      <td>0</td>\n",
       "      <td>113803</td>\n",
       "      <td>53.1000</td>\n",
       "      <td>C123</td>\n",
       "      <td>S</td>\n",
       "    </tr>\n",
       "    <tr>\n",
       "      <th>4</th>\n",
       "      <td>5</td>\n",
       "      <td>0</td>\n",
       "      <td>3</td>\n",
       "      <td>Allen, Mr. William Henry</td>\n",
       "      <td>male</td>\n",
       "      <td>35.0</td>\n",
       "      <td>0</td>\n",
       "      <td>0</td>\n",
       "      <td>373450</td>\n",
       "      <td>8.0500</td>\n",
       "      <td>NaN</td>\n",
       "      <td>S</td>\n",
       "    </tr>\n",
       "    <tr>\n",
       "      <th>...</th>\n",
       "      <td>...</td>\n",
       "      <td>...</td>\n",
       "      <td>...</td>\n",
       "      <td>...</td>\n",
       "      <td>...</td>\n",
       "      <td>...</td>\n",
       "      <td>...</td>\n",
       "      <td>...</td>\n",
       "      <td>...</td>\n",
       "      <td>...</td>\n",
       "      <td>...</td>\n",
       "      <td>...</td>\n",
       "    </tr>\n",
       "    <tr>\n",
       "      <th>886</th>\n",
       "      <td>887</td>\n",
       "      <td>0</td>\n",
       "      <td>2</td>\n",
       "      <td>Montvila, Rev. Juozas</td>\n",
       "      <td>male</td>\n",
       "      <td>27.0</td>\n",
       "      <td>0</td>\n",
       "      <td>0</td>\n",
       "      <td>211536</td>\n",
       "      <td>13.0000</td>\n",
       "      <td>NaN</td>\n",
       "      <td>S</td>\n",
       "    </tr>\n",
       "    <tr>\n",
       "      <th>887</th>\n",
       "      <td>888</td>\n",
       "      <td>1</td>\n",
       "      <td>1</td>\n",
       "      <td>Graham, Miss. Margaret Edith</td>\n",
       "      <td>female</td>\n",
       "      <td>19.0</td>\n",
       "      <td>0</td>\n",
       "      <td>0</td>\n",
       "      <td>112053</td>\n",
       "      <td>30.0000</td>\n",
       "      <td>B42</td>\n",
       "      <td>S</td>\n",
       "    </tr>\n",
       "    <tr>\n",
       "      <th>888</th>\n",
       "      <td>889</td>\n",
       "      <td>0</td>\n",
       "      <td>3</td>\n",
       "      <td>Johnston, Miss. Catherine Helen \"Carrie\"</td>\n",
       "      <td>female</td>\n",
       "      <td>NaN</td>\n",
       "      <td>1</td>\n",
       "      <td>2</td>\n",
       "      <td>W./C. 6607</td>\n",
       "      <td>23.4500</td>\n",
       "      <td>NaN</td>\n",
       "      <td>S</td>\n",
       "    </tr>\n",
       "    <tr>\n",
       "      <th>889</th>\n",
       "      <td>890</td>\n",
       "      <td>1</td>\n",
       "      <td>1</td>\n",
       "      <td>Behr, Mr. Karl Howell</td>\n",
       "      <td>male</td>\n",
       "      <td>26.0</td>\n",
       "      <td>0</td>\n",
       "      <td>0</td>\n",
       "      <td>111369</td>\n",
       "      <td>30.0000</td>\n",
       "      <td>C148</td>\n",
       "      <td>C</td>\n",
       "    </tr>\n",
       "    <tr>\n",
       "      <th>890</th>\n",
       "      <td>891</td>\n",
       "      <td>0</td>\n",
       "      <td>3</td>\n",
       "      <td>Dooley, Mr. Patrick</td>\n",
       "      <td>male</td>\n",
       "      <td>32.0</td>\n",
       "      <td>0</td>\n",
       "      <td>0</td>\n",
       "      <td>370376</td>\n",
       "      <td>7.7500</td>\n",
       "      <td>NaN</td>\n",
       "      <td>Q</td>\n",
       "    </tr>\n",
       "  </tbody>\n",
       "</table>\n",
       "<p>891 rows × 12 columns</p>\n",
       "</div>"
      ],
      "text/plain": [
       "     PassengerId  Survived  Pclass  \\\n",
       "0              1         0       3   \n",
       "1              2         1       1   \n",
       "2              3         1       3   \n",
       "3              4         1       1   \n",
       "4              5         0       3   \n",
       "..           ...       ...     ...   \n",
       "886          887         0       2   \n",
       "887          888         1       1   \n",
       "888          889         0       3   \n",
       "889          890         1       1   \n",
       "890          891         0       3   \n",
       "\n",
       "                                                  Name     Sex   Age  SibSp  \\\n",
       "0                              Braund, Mr. Owen Harris    male  22.0      1   \n",
       "1    Cumings, Mrs. John Bradley (Florence Briggs Th...  female  38.0      1   \n",
       "2                               Heikkinen, Miss. Laina  female  26.0      0   \n",
       "3         Futrelle, Mrs. Jacques Heath (Lily May Peel)  female  35.0      1   \n",
       "4                             Allen, Mr. William Henry    male  35.0      0   \n",
       "..                                                 ...     ...   ...    ...   \n",
       "886                              Montvila, Rev. Juozas    male  27.0      0   \n",
       "887                       Graham, Miss. Margaret Edith  female  19.0      0   \n",
       "888           Johnston, Miss. Catherine Helen \"Carrie\"  female   NaN      1   \n",
       "889                              Behr, Mr. Karl Howell    male  26.0      0   \n",
       "890                                Dooley, Mr. Patrick    male  32.0      0   \n",
       "\n",
       "     Parch            Ticket     Fare Cabin Embarked  \n",
       "0        0         A/5 21171   7.2500   NaN        S  \n",
       "1        0          PC 17599  71.2833   C85        C  \n",
       "2        0  STON/O2. 3101282   7.9250   NaN        S  \n",
       "3        0            113803  53.1000  C123        S  \n",
       "4        0            373450   8.0500   NaN        S  \n",
       "..     ...               ...      ...   ...      ...  \n",
       "886      0            211536  13.0000   NaN        S  \n",
       "887      0            112053  30.0000   B42        S  \n",
       "888      2        W./C. 6607  23.4500   NaN        S  \n",
       "889      0            111369  30.0000  C148        C  \n",
       "890      0            370376   7.7500   NaN        Q  \n",
       "\n",
       "[891 rows x 12 columns]"
      ]
     },
     "execution_count": 419,
     "metadata": {},
     "output_type": "execute_result"
    }
   ],
   "source": [
    "data = pd.read_csv('titanic.csv')\n",
    "data\n",
    "# загрузили данные"
   ]
  },
  {
   "cell_type": "code",
   "execution_count": 420,
   "metadata": {},
   "outputs": [],
   "source": [
    "# Значения колонок \n",
    "# Pasengerld - идентификатор пассажира \n",
    "# Survived - целевой признак (0 - не выжил 1 - выжил)\n",
    "# Pclass - класс билета 1 2 3 \n",
    "# Name - имя и титул пассажира \n",
    "# Sex - пол пассажира(male - мужской) (female - женский)\n",
    "# Age - возраст пассажира \n",
    "# SibSp - кол-во родственников жены/мужа на борту\n",
    "# Parch - кол-во родителей и детей на борту \n",
    "# Ticekt - номер билета \n",
    "# Fare - стоимость билета \n",
    "# Cabin - номер комнаты (если доступно)\n",
    "# Embarked - порт отправления (C Q S) \n"
   ]
  },
  {
   "cell_type": "code",
   "execution_count": 423,
   "metadata": {},
   "outputs": [],
   "source": [
    "# Работа с гипотезами \n",
    "#Гипотеза 1: Женщины выживали чаще, чем мужчины."
   ]
  },
  {
   "cell_type": "code",
   "execution_count": 424,
   "metadata": {},
   "outputs": [
    {
     "name": "stdout",
     "output_type": "stream",
     "text": [
      "Survived         0         1\n",
      "Sex                         \n",
      "female    0.257962  0.742038\n",
      "male      0.811092  0.188908\n"
     ]
    }
   ],
   "source": [
    "# Сгруппируем данные по полу и выживаемости, посчитаем количество выживших и погибших\n",
    "survival_by_gender = data.groupby('Sex')['Survived'].value_counts(normalize=True).unstack()\n",
    "print(survival_by_gender)"
   ]
  },
  {
   "cell_type": "code",
   "execution_count": 425,
   "metadata": {},
   "outputs": [],
   "source": [
    "# импортирую нужные мне библиотеки для работы с гипотезами.\n",
    "import seaborn as sns\n",
    "import matplotlib.pyplot as plt\n"
   ]
  },
  {
   "cell_type": "code",
   "execution_count": 426,
   "metadata": {},
   "outputs": [
    {
     "data": {
      "image/png": "[encoded data removed]",
      "text/plain": [
       "<Figure size 640x480 with 1 Axes>"
      ]
     },
     "metadata": {},
     "output_type": "display_data"
    }
   ],
   "source": [
    "# Сделала график выживаемости по полу и определила, то что женщины выживали чаще чем мужчины\n",
    "# Использовала библиотеку seaborn для построения столбчатой диаграммы, которая показывает, какая доля мужчин и женщин выжила.\n",
    "sns.barplot(x='Sex', y='Survived', data=data)\n",
    "\n",
    "plt.title('Выживаемость по полу')\n",
    "plt.ylabel('Доля выживших')\n",
    "plt.show()"
   ]
  },
  {
   "cell_type": "code",
   "execution_count": 427,
   "metadata": {},
   "outputs": [
    {
     "data": {
      "image/png": "[encoded data removed]",
      "text/plain": [
       "<Figure size 640x480 with 1 Axes>"
      ]
     },
     "metadata": {},
     "output_type": "display_data"
    }
   ],
   "source": [
    "#Гипотеза 2: Пассажиры первого класса выживали чаще, чем пассажиры второго и третьего классов.\n",
    "sns.barplot(x='Pclass', y='Survived', data=data)\n",
    "\n",
    "plt.title('Выживаемость по классу')\n",
    "plt.ylabel('Доля выживших')\n",
    "plt.xlabel('Класс')\n",
    "plt.show()"
   ]
  },
  {
   "cell_type": "code",
   "execution_count": 428,
   "metadata": {},
   "outputs": [],
   "source": [
    "#Гипотеза 3: Дети имели более высокие шансы на выживание."
   ]
  },
  {
   "cell_type": "code",
   "execution_count": 429,
   "metadata": {},
   "outputs": [
    {
     "name": "stdout",
     "output_type": "stream",
     "text": [
      "Survived         0         1\n",
      "Child                       \n",
      "0         0.637376  0.362624\n",
      "1         0.409639  0.590361\n"
     ]
    }
   ],
   "source": [
    "# Добавим новый столбец 'Child', где дети (младше 16 лет) будут помечены как 1, остальные как 0\n",
    "data['Child'] = data['Age'].apply(lambda x: 1 if x < 16 else 0)\n",
    "#Делаем группировку по новому признаку (Child) и считаем долю выживших среди детей и взрослых с помощью функции value_counts(normalize=True).\n",
    "survival_by_age = data.groupby('Child')['Survived'].value_counts(normalize=True).unstack()\n",
    "print(survival_by_age)"
   ]
  },
  {
   "cell_type": "code",
   "execution_count": 430,
   "metadata": {},
   "outputs": [
    {
     "data": {
      "image/png": "[encoded data removed]",
      "text/plain": [
       "<Figure size 640x480 with 1 Axes>"
      ]
     },
     "metadata": {},
     "output_type": "display_data"
    }
   ],
   "source": [
    "#Используем столбчатую диаграмму для наглядного сравнения шансов на выживание детей и взрослых.\n",
    "sns.barplot(x='Child', y='Survived', data=data)\n",
    "\n",
    "plt.title('Выживаемость среди детей и взрослых')\n",
    "plt.ylabel('Доля выживших')\n",
    "plt.xlabel('0 - Взрослые, 1 - Дети')\n",
    "plt.show()"
   ]
  },
  {
   "cell_type": "code",
   "execution_count": 431,
   "metadata": {},
   "outputs": [],
   "source": [
    "#Гипотеза 4: Пассажиры, у которых были родственники на борту (SibSp, Parch), имели больше шансов выжить."
   ]
  },
  {
   "cell_type": "code",
   "execution_count": 432,
   "metadata": {},
   "outputs": [
    {
     "name": "stdout",
     "output_type": "stream",
     "text": [
      "Survived              0         1\n",
      "Has_Relatives                    \n",
      "0              0.696462  0.303538\n",
      "1              0.494350  0.505650\n"
     ]
    }
   ],
   "source": [
    " # Добавим новый столбец 'Relatives', который будет суммой SibSp и Parch (общее количество родственников на борту)\n",
    "data['Relatives'] = data['SibSp'] + data['Parch']\n",
    "# Преобразуем количество родственников в бинарный признак — 1 для тех, у кого были родственники, и 0 для тех, у кого не было.\n",
    "data['Has_Relatives'] = data['Relatives'].apply(lambda x: 1 if x > 0 else 0)\n",
    "\n",
    "# Посчитаем долю выживших среди тех, у кого есть и нет родственников\n",
    "survival_by_relatives = data.groupby('Has_Relatives')['Survived'].value_counts(normalize=True).unstack()\n",
    "print(survival_by_relatives)"
   ]
  },
  {
   "cell_type": "code",
   "execution_count": 433,
   "metadata": {},
   "outputs": [
    {
     "data": {
      "image/png": "[encoded data removed]",
      "text/plain": [
       "<Figure size 640x480 with 1 Axes>"
      ]
     },
     "metadata": {},
     "output_type": "display_data"
    }
   ],
   "source": [
    "#Построим график, показывающий выживаемость пассажиров с родственниками и без. Видим то что выживали больше с родственниками\n",
    "sns.barplot(x='Has_Relatives', y='Survived', data=data)\n",
    "\n",
    "plt.title('Выживаемость пассажиров с родственниками на борту')\n",
    "plt.ylabel('Доля выживших')\n",
    "plt.xlabel('0 - Нет родственников, 1 - Есть родственники')\n",
    "plt.show()"
   ]
  },
  {
   "cell_type": "code",
   "execution_count": 434,
   "metadata": {},
   "outputs": [],
   "source": [
    "#Гипотеза 5: Пассажиры с более высокими тарифами (Fare) имели больше шансов на выживание."
   ]
  },
  {
   "cell_type": "code",
   "execution_count": 435,
   "metadata": {},
   "outputs": [
    {
     "name": "stdout",
     "output_type": "stream",
     "text": [
      "Survived              0         1\n",
      "Fare_Category                    \n",
      "Low            0.802691  0.197309\n",
      "Mid-Low        0.696429  0.303571\n",
      "Mid-High       0.545045  0.454955\n",
      "High           0.418919  0.581081\n"
     ]
    },
    {
     "name": "stderr",
     "output_type": "stream",
     "text": [
      "C:\\Users\\user\\AppData\\Local\\Temp\\ipykernel_12252\\2501954632.py:2: FutureWarning: A value is trying to be set on a copy of a DataFrame or Series through chained assignment using an inplace method.\n",
      "The behavior will change in pandas 3.0. This inplace method will never work because the intermediate object on which we are setting values always behaves as a copy.\n",
      "\n",
      "For example, when doing 'df[col].method(value, inplace=True)', try using 'df.method({col: value}, inplace=True)' or df[col] = df[col].method(value) instead, to perform the operation inplace on the original object.\n",
      "\n",
      "\n",
      "  data['Fare'].fillna(data['Fare'].median(), inplace=True)\n",
      "C:\\Users\\user\\AppData\\Local\\Temp\\ipykernel_12252\\2501954632.py:10: FutureWarning: The default of observed=False is deprecated and will be changed to True in a future version of pandas. Pass observed=False to retain current behavior or observed=True to adopt the future default and silence this warning.\n",
      "  survival_by_fare = data.groupby('Fare_Category')['Survived'].value_counts(normalize=True).unstack()\n"
     ]
    }
   ],
   "source": [
    "# Проверим наличие пропущенных значений в Fare\n",
    "data['Fare'].fillna(data['Fare'].median(), inplace=True)\n",
    "\n",
    "# Разделим стоимость билета на категории по квантилям (например, 4 категории)\n",
    "# Используем метод pd.qcut, чтобы разделить стоимость билетов на 4 категории (квартиля)\n",
    "data['Fare_Category'] = pd.qcut(data['Fare'], 4, labels=['Low', 'Mid-Low', 'Mid-High', 'High'])\n",
    "\n",
    "# Сгруппируем данные по категориям Fare и посчитаем долю выживших\n",
    "# Группируем данные по новому признаку Fare_Category и вычисляем долю выживших для каждой категории с помощью value_counts(normalize=True)\n",
    "survival_by_fare = data.groupby('Fare_Category')['Survived'].value_counts(normalize=True).unstack()\n",
    "print(survival_by_fare)"
   ]
  },
  {
   "cell_type": "code",
   "execution_count": 436,
   "metadata": {},
   "outputs": [
    {
     "data": {
      "image/png": "[encoded data removed]",
      "text/plain": [
       "<Figure size 640x480 with 1 Axes>"
      ]
     },
     "metadata": {},
     "output_type": "display_data"
    }
   ],
   "source": [
    "# Построим график, показывающий, как доля выживших меняется в зависимости от стоимости билета. Видим то что пассажиры с высокими тарифами выживали больше.\n",
    "sns.barplot(x='Fare_Category', y='Survived', data=data)\n",
    "\n",
    "plt.title('Выживаемость в зависимости от категории стоимости билета')\n",
    "plt.ylabel('Доля выживших')\n",
    "plt.xlabel('Категория стоимости билета')\n",
    "plt.show()"
   ]
  },
  {
   "cell_type": "code",
   "execution_count": 437,
   "metadata": {},
   "outputs": [],
   "source": [
    " #Гипотеза 6: Пассажиры, которые сели на корабль в разных портах (Embarked), могли иметь различные шансы на выживание."
   ]
  },
  {
   "cell_type": "code",
   "execution_count": 438,
   "metadata": {},
   "outputs": [
    {
     "name": "stdout",
     "output_type": "stream",
     "text": [
      "Survived         0         1\n",
      "Embarked                    \n",
      "C         0.446429  0.553571\n",
      "Q         0.610390  0.389610\n",
      "S         0.660465  0.339535\n",
      "SАВ       1.000000       NaN\n"
     ]
    },
    {
     "name": "stderr",
     "output_type": "stream",
     "text": [
      "C:\\Users\\user\\AppData\\Local\\Temp\\ipykernel_12252\\788008034.py:2: FutureWarning: A value is trying to be set on a copy of a DataFrame or Series through chained assignment using an inplace method.\n",
      "The behavior will change in pandas 3.0. This inplace method will never work because the intermediate object on which we are setting values always behaves as a copy.\n",
      "\n",
      "For example, when doing 'df[col].method(value, inplace=True)', try using 'df.method({col: value}, inplace=True)' or df[col] = df[col].method(value) instead, to perform the operation inplace on the original object.\n",
      "\n",
      "\n",
      "  data['Embarked'].fillna(data['Embarked'].mode()[0], inplace=True)\n"
     ]
    }
   ],
   "source": [
    "# Проверим наличие пропущенных значений в Embarked и заполним их наиболее частым значением\n",
    "data['Embarked'].fillna(data['Embarked'].mode()[0], inplace=True)\n",
    "\n",
    "# Группируем данные по порту посадки и вычисляем долю выживших для каждого порта с помощью value_counts(normalize=True)\n",
    "survival_by_embarked = data.groupby('Embarked')['Survived'].value_counts(normalize=True).unstack()\n",
    "\n",
    "print(survival_by_embarked)"
   ]
  },
  {
   "cell_type": "code",
   "execution_count": 439,
   "metadata": {},
   "outputs": [
    {
     "data": {
      "image/png": "[encoded data removed]",
      "text/plain": [
       "<Figure size 640x480 with 1 Axes>"
      ]
     },
     "metadata": {},
     "output_type": "display_data"
    }
   ],
   "source": [
    "# Построим график, показывающий, как доля выживших меняется в зависимости от порта посадки.\n",
    "# Видим то что выживаемость с порта C была больше.\n",
    "sns.barplot(x='Embarked', y='Survived', data=data)\n",
    "\n",
    "plt.title('Выживаемость в зависимости от порта посадки')\n",
    "plt.ylabel('Доля выживших')\n",
    "plt.xlabel('Порт посадки')\n",
    "plt.show()"
   ]
  },
  {
   "cell_type": "code",
   "execution_count": 440,
   "metadata": {},
   "outputs": [],
   "source": [
    "# Гипотеза 7: Молодые люди имели больше шансов выжить по сравнению с пожилыми."
   ]
  },
  {
   "cell_type": "code",
   "execution_count": 441,
   "metadata": {},
   "outputs": [
    {
     "name": "stdout",
     "output_type": "stream",
     "text": [
      "Survived             0         1\n",
      "Age_Category                    \n",
      "Молодые       0.496403  0.503597\n",
      "Взрослые      0.634247  0.365753\n",
      "Пожилые       0.772727  0.227273\n"
     ]
    },
    {
     "name": "stderr",
     "output_type": "stream",
     "text": [
      "C:\\Users\\user\\AppData\\Local\\Temp\\ipykernel_12252\\3589557094.py:2: FutureWarning: A value is trying to be set on a copy of a DataFrame or Series through chained assignment using an inplace method.\n",
      "The behavior will change in pandas 3.0. This inplace method will never work because the intermediate object on which we are setting values always behaves as a copy.\n",
      "\n",
      "For example, when doing 'df[col].method(value, inplace=True)', try using 'df.method({col: value}, inplace=True)' or df[col] = df[col].method(value) instead, to perform the operation inplace on the original object.\n",
      "\n",
      "\n",
      "  data['Age'].fillna(data['Age'].median(), inplace=True)\n",
      "C:\\Users\\user\\AppData\\Local\\Temp\\ipykernel_12252\\3589557094.py:9: FutureWarning: The default of observed=False is deprecated and will be changed to True in a future version of pandas. Pass observed=False to retain current behavior or observed=True to adopt the future default and silence this warning.\n",
      "  survival_by_age_category = data.groupby('Age_Category')['Survived'].value_counts(normalize=True).unstack()\n"
     ]
    }
   ],
   "source": [
    "# Проверим наличие пропущенных значений в Age и заполним их медианным значением\n",
    "data['Age'].fillna(data['Age'].median(), inplace=True)\n",
    "# Разделим возраст на категории,  молодые (до 18), взрослые (от 18 до 60) и пожилые (старше 60)\n",
    "bins = [0, 18, 60, 100]\n",
    "labels = ['Молодые', 'Взрослые', 'Пожилые']\n",
    "data['Age_Category'] = pd.cut(data['Age'], bins=bins, labels=labels)\n",
    "\n",
    "# Сгруппируем данные по возрастным категориям и выживаемости, посчитаем долю выживших\n",
    "survival_by_age_category = data.groupby('Age_Category')['Survived'].value_counts(normalize=True).unstack()\n",
    "\n",
    "print(survival_by_age_category)\n"
   ]
  },
  {
   "cell_type": "code",
   "execution_count": 442,
   "metadata": {},
   "outputs": [
    {
     "data": {
      "image/png": "[encoded data removed]",
      "text/plain": [
       "<Figure size 640x480 with 1 Axes>"
      ]
     },
     "metadata": {},
     "output_type": "display_data"
    }
   ],
   "source": [
    "#  Строим график, который показывает, как доля выживших меняется в зависимости от возраста. Видим то что молодые выживали больше чем взрослые и пожилые.\n",
    "sns.barplot(x='Age_Category', y='Survived', data=data)\n",
    "\n",
    "plt.title('Выживаемость по возрастным категориям')\n",
    "plt.ylabel('Доля выживших')\n",
    "plt.xlabel('Возрастные категории')\n",
    "plt.show()"
   ]
  },
  {
   "cell_type": "code",
   "execution_count": 443,
   "metadata": {},
   "outputs": [],
   "source": [
    "# Выводы: \n",
    "# Гипотеза: Женщины выживали чаще, чем мужчины.\n",
    "# Пояснение: Во время катастроф пассажиры часто следуют правилу «женщины и дети первыми», что может привести к более высокому уровню выживаемости женщин.\n",
    "# Гипотеза: Пассажиры первого класса выживали чаще, чем пассажиры второго и третьего классов.\n",
    "# Пояснение: Пассажиры первого класса могли иметь больше доступа к спасательным шлюпкам, а также имели лучшие условия, что могло увеличить их шансы на выживание.\n",
    "# Гипотеза: Дети имели более высокие шансы на выживание.\n",
    "# Пояснение: Согласно принципу «женщины и дети первыми», дети могли получить приоритет при спасении.\n",
    "# Гипотеза: Пассажиры, у которых были родственники на борту (SibSp, Parch), имели больше шансов выжить.\n",
    "# Пояснение: Люди с родственниками могли получать помощь от членов семьи, что увеличивало их шансы на выживание.Гипотеза: Пассажиры с более высокими тарифами (Fare) имели больше шансов на выживание.\n",
    "# Пояснение: Стоимость билета может коррелировать с социальным статусом, а также с расположением кают ближе к спасательным шлюпкам.\n",
    "# Гипотеза: Пассажиры, которые сели на корабль в разных портах (Embarked), могли иметь различные шансы на выживание.\n",
    "# Пояснение: Различия в социальном статусе пассажиров, севших в разных портах, могут влиять на их возможности к спасению.\n",
    "# Гипотеза: Молодые люди имели больше шансов выжить по сравнению с пожилыми.\n",
    "# Пояснение: Молодые люди могли быть физически крепче и быстрее реагировать на критическую ситуацию, что увеличивало их шансы."
   ]
  },
  {
   "cell_type": "code",
   "execution_count": 444,
   "metadata": {},
   "outputs": [],
   "source": [
    "# Заменили колонку 'Fare_Category' на численные значения.\n",
    "d = {'Low':0, 'Mid-Low' :1, 'Mid':2, 'Mid-High':3, 'High':4} # создаем словарь\n"
   ]
  },
  {
   "cell_type": "code",
   "execution_count": 445,
   "metadata": {},
   "outputs": [],
   "source": [
    "data['Fare_Category'] = data['Fare_Category'].apply(lambda x:d[x])"
   ]
  },
  {
   "cell_type": "code",
   "execution_count": 446,
   "metadata": {},
   "outputs": [],
   "source": [
    "# Заменили колонку 'Age_Category' на численные значения. \n",
    "passs = {'Взрослые':0, 'Молодые' :1, 'Пожилые': 2 }  # создаем словарь"
   ]
  },
  {
   "cell_type": "code",
   "execution_count": 447,
   "metadata": {},
   "outputs": [],
   "source": [
    "data['Age_Category'] = data['Age_Category'].apply(lambda x:passs[x])\n"
   ]
  },
  {
   "cell_type": "code",
   "execution_count": 448,
   "metadata": {},
   "outputs": [],
   "source": [
    "# Заменяем male и female на 0 и 1 с помощью словаря \n",
    "d = {'male':0, 'female' :1} # создаем словарь "
   ]
  },
  {
   "cell_type": "code",
   "execution_count": 449,
   "metadata": {},
   "outputs": [],
   "source": [
    "data['Sex'] = data['Sex'].apply(lambda x:d[x])"
   ]
  },
  {
   "cell_type": "code",
   "execution_count": 450,
   "metadata": {},
   "outputs": [
    {
     "data": {
      "text/plain": [
       "0    0\n",
       "1    1\n",
       "2    1\n",
       "3    1\n",
       "4    0\n",
       "Name: Sex, dtype: int64"
      ]
     },
     "execution_count": 450,
     "metadata": {},
     "output_type": "execute_result"
    }
   ],
   "source": [
    "data['Sex'].head() # Теперь везде 0 и 1 в колонке 'Sex'."
   ]
  },
  {
   "cell_type": "code",
   "execution_count": 451,
   "metadata": {},
   "outputs": [],
   "source": [
    "# Заполняем пустые ячейки медианным значением по возрасту.\n",
    "data['Age'] = data['Age'].fillna(X['Age'].median)"
   ]
  },
  {
   "cell_type": "code",
   "execution_count": 452,
   "metadata": {},
   "outputs": [
    {
     "data": {
      "text/plain": [
       "0"
      ]
     },
     "execution_count": 452,
     "metadata": {},
     "output_type": "execute_result"
    }
   ],
   "source": [
    "data['Age'].isnull().sum()\n",
    "# Все ячейки в колонке возраст заполнены "
   ]
  },
  {
   "cell_type": "code",
   "execution_count": 453,
   "metadata": {},
   "outputs": [
    {
     "data": {
      "text/plain": [
       "0"
      ]
     },
     "execution_count": 453,
     "metadata": {},
     "output_type": "execute_result"
    }
   ],
   "source": [
    "# Проваеряем есть ли пустые ячейки в колонке 'Sex'.\n",
    "data['Sex'].isnull().sum()"
   ]
  },
  {
   "cell_type": "code",
   "execution_count": 454,
   "metadata": {},
   "outputs": [
    {
     "data": {
      "text/plain": [
       "0"
      ]
     },
     "execution_count": 454,
     "metadata": {},
     "output_type": "execute_result"
    }
   ],
   "source": [
    "# Проваеряем есть ли пустые ячейки в колонке 'Pclass'.\n",
    "data['Pclass'].isnull().sum()"
   ]
  },
  {
   "cell_type": "code",
   "execution_count": 455,
   "metadata": {},
   "outputs": [
    {
     "data": {
      "text/plain": [
       "0"
      ]
     },
     "execution_count": 455,
     "metadata": {},
     "output_type": "execute_result"
    }
   ],
   "source": [
    "# Проваеряем есть ли пустые ячейки в колонке 'Fare'.\n",
    "data['Fare'].isnull().sum()"
   ]
  },
  {
   "cell_type": "code",
   "execution_count": 456,
   "metadata": {},
   "outputs": [],
   "source": [
    "# LabelEncoder: преобразует категориальные текстовые данные в числовые значения.\n",
    "categorical_cols = data.select_dtypes(include=['object']).columns\n",
    "label_encoders = {}\n"
   ]
  },
  {
   "cell_type": "code",
   "execution_count": 457,
   "metadata": {},
   "outputs": [],
   "source": [
    "from sklearn.preprocessing import LabelEncoder\n",
    "for col in categorical_cols:\n",
    "    le = LabelEncoder()\n",
    "    data[col] = le.fit_transform(data[col])\n",
    "    label_encoders[col] = le"
   ]
  },
  {
   "cell_type": "code",
   "execution_count": 458,
   "metadata": {},
   "outputs": [
    {
     "data": {
      "text/html": [
       "<div>\n",
       "<style scoped>\n",
       "    .dataframe tbody tr th:only-of-type {\n",
       "        vertical-align: middle;\n",
       "    }\n",
       "\n",
       "    .dataframe tbody tr th {\n",
       "        vertical-align: top;\n",
       "    }\n",
       "\n",
       "    .dataframe thead th {\n",
       "        text-align: right;\n",
       "    }\n",
       "</style>\n",
       "<table border=\"1\" class=\"dataframe\">\n",
       "  <thead>\n",
       "    <tr style=\"text-align: right;\">\n",
       "      <th></th>\n",
       "      <th>PassengerId</th>\n",
       "      <th>Survived</th>\n",
       "      <th>Pclass</th>\n",
       "      <th>Name</th>\n",
       "      <th>Sex</th>\n",
       "      <th>Age</th>\n",
       "      <th>SibSp</th>\n",
       "      <th>Parch</th>\n",
       "      <th>Ticket</th>\n",
       "      <th>Fare</th>\n",
       "      <th>Cabin</th>\n",
       "      <th>Embarked</th>\n",
       "      <th>Child</th>\n",
       "      <th>Relatives</th>\n",
       "      <th>Has_Relatives</th>\n",
       "      <th>Fare_Category</th>\n",
       "      <th>Age_Category</th>\n",
       "    </tr>\n",
       "  </thead>\n",
       "  <tbody>\n",
       "    <tr>\n",
       "      <th>PassengerId</th>\n",
       "      <td>1.000000</td>\n",
       "      <td>-0.005007</td>\n",
       "      <td>-0.035144</td>\n",
       "      <td>-0.038559</td>\n",
       "      <td>-0.042939</td>\n",
       "      <td>0.034212</td>\n",
       "      <td>-0.057527</td>\n",
       "      <td>-0.001652</td>\n",
       "      <td>-0.056554</td>\n",
       "      <td>0.012658</td>\n",
       "      <td>-0.035077</td>\n",
       "      <td>0.011151</td>\n",
       "      <td>-0.017941</td>\n",
       "      <td>-0.040143</td>\n",
       "      <td>-0.057462</td>\n",
       "      <td>-0.023617</td>\n",
       "      <td>-0.006265</td>\n",
       "    </tr>\n",
       "    <tr>\n",
       "      <th>Survived</th>\n",
       "      <td>-0.005007</td>\n",
       "      <td>1.000000</td>\n",
       "      <td>-0.338481</td>\n",
       "      <td>-0.057343</td>\n",
       "      <td>0.543351</td>\n",
       "      <td>-0.064910</td>\n",
       "      <td>-0.035322</td>\n",
       "      <td>0.081629</td>\n",
       "      <td>-0.164549</td>\n",
       "      <td>0.257307</td>\n",
       "      <td>-0.254888</td>\n",
       "      <td>-0.168504</td>\n",
       "      <td>0.136107</td>\n",
       "      <td>0.016639</td>\n",
       "      <td>0.203367</td>\n",
       "      <td>0.298639</td>\n",
       "      <td>0.048840</td>\n",
       "    </tr>\n",
       "    <tr>\n",
       "      <th>Pclass</th>\n",
       "      <td>-0.035144</td>\n",
       "      <td>-0.338481</td>\n",
       "      <td>1.000000</td>\n",
       "      <td>0.052831</td>\n",
       "      <td>-0.131900</td>\n",
       "      <td>-0.339898</td>\n",
       "      <td>0.083081</td>\n",
       "      <td>0.018443</td>\n",
       "      <td>0.319869</td>\n",
       "      <td>-0.549500</td>\n",
       "      <td>0.684121</td>\n",
       "      <td>0.162990</td>\n",
       "      <td>0.121920</td>\n",
       "      <td>0.065997</td>\n",
       "      <td>-0.135207</td>\n",
       "      <td>-0.622681</td>\n",
       "      <td>0.010250</td>\n",
       "    </tr>\n",
       "    <tr>\n",
       "      <th>Name</th>\n",
       "      <td>-0.038559</td>\n",
       "      <td>-0.057343</td>\n",
       "      <td>0.052831</td>\n",
       "      <td>1.000000</td>\n",
       "      <td>-0.020314</td>\n",
       "      <td>0.048252</td>\n",
       "      <td>-0.017230</td>\n",
       "      <td>-0.049105</td>\n",
       "      <td>0.047348</td>\n",
       "      <td>-0.049173</td>\n",
       "      <td>0.061959</td>\n",
       "      <td>-0.007682</td>\n",
       "      <td>-0.033899</td>\n",
       "      <td>-0.036309</td>\n",
       "      <td>-0.070722</td>\n",
       "      <td>-0.057830</td>\n",
       "      <td>-0.021000</td>\n",
       "    </tr>\n",
       "    <tr>\n",
       "      <th>Sex</th>\n",
       "      <td>-0.042939</td>\n",
       "      <td>0.543351</td>\n",
       "      <td>-0.131900</td>\n",
       "      <td>-0.020314</td>\n",
       "      <td>1.000000</td>\n",
       "      <td>-0.081163</td>\n",
       "      <td>0.114631</td>\n",
       "      <td>0.245489</td>\n",
       "      <td>-0.059372</td>\n",
       "      <td>0.182333</td>\n",
       "      <td>-0.096681</td>\n",
       "      <td>-0.109121</td>\n",
       "      <td>0.111141</td>\n",
       "      <td>0.200988</td>\n",
       "      <td>0.303646</td>\n",
       "      <td>0.242886</td>\n",
       "      <td>0.048449</td>\n",
       "    </tr>\n",
       "    <tr>\n",
       "      <th>Age</th>\n",
       "      <td>0.034212</td>\n",
       "      <td>-0.064910</td>\n",
       "      <td>-0.339898</td>\n",
       "      <td>0.048252</td>\n",
       "      <td>-0.081163</td>\n",
       "      <td>1.000000</td>\n",
       "      <td>-0.233296</td>\n",
       "      <td>-0.172482</td>\n",
       "      <td>-0.070382</td>\n",
       "      <td>0.096688</td>\n",
       "      <td>-0.240839</td>\n",
       "      <td>-0.018761</td>\n",
       "      <td>-0.566310</td>\n",
       "      <td>-0.245619</td>\n",
       "      <td>-0.171647</td>\n",
       "      <td>0.079545</td>\n",
       "      <td>-0.183045</td>\n",
       "    </tr>\n",
       "    <tr>\n",
       "      <th>SibSp</th>\n",
       "      <td>-0.057527</td>\n",
       "      <td>-0.035322</td>\n",
       "      <td>0.083081</td>\n",
       "      <td>-0.017230</td>\n",
       "      <td>0.114631</td>\n",
       "      <td>-0.233296</td>\n",
       "      <td>1.000000</td>\n",
       "      <td>0.414838</td>\n",
       "      <td>0.079461</td>\n",
       "      <td>0.159651</td>\n",
       "      <td>0.043593</td>\n",
       "      <td>0.067441</td>\n",
       "      <td>0.352437</td>\n",
       "      <td>0.890712</td>\n",
       "      <td>0.584471</td>\n",
       "      <td>0.399508</td>\n",
       "      <td>0.188374</td>\n",
       "    </tr>\n",
       "    <tr>\n",
       "      <th>Parch</th>\n",
       "      <td>-0.001652</td>\n",
       "      <td>0.081629</td>\n",
       "      <td>0.018443</td>\n",
       "      <td>-0.049105</td>\n",
       "      <td>0.245489</td>\n",
       "      <td>-0.172482</td>\n",
       "      <td>0.414838</td>\n",
       "      <td>1.000000</td>\n",
       "      <td>0.020003</td>\n",
       "      <td>0.216225</td>\n",
       "      <td>-0.028324</td>\n",
       "      <td>0.039059</td>\n",
       "      <td>0.351481</td>\n",
       "      <td>0.783111</td>\n",
       "      <td>0.583398</td>\n",
       "      <td>0.405031</td>\n",
       "      <td>0.218062</td>\n",
       "    </tr>\n",
       "    <tr>\n",
       "      <th>Ticket</th>\n",
       "      <td>-0.056554</td>\n",
       "      <td>-0.164549</td>\n",
       "      <td>0.319869</td>\n",
       "      <td>0.047348</td>\n",
       "      <td>-0.059372</td>\n",
       "      <td>-0.070382</td>\n",
       "      <td>0.079461</td>\n",
       "      <td>0.020003</td>\n",
       "      <td>1.000000</td>\n",
       "      <td>-0.013885</td>\n",
       "      <td>0.243696</td>\n",
       "      <td>-0.002012</td>\n",
       "      <td>-0.030699</td>\n",
       "      <td>0.064302</td>\n",
       "      <td>-0.028314</td>\n",
       "      <td>-0.141849</td>\n",
       "      <td>-0.012135</td>\n",
       "    </tr>\n",
       "    <tr>\n",
       "      <th>Fare</th>\n",
       "      <td>0.012658</td>\n",
       "      <td>0.257307</td>\n",
       "      <td>-0.549500</td>\n",
       "      <td>-0.049173</td>\n",
       "      <td>0.182333</td>\n",
       "      <td>0.096688</td>\n",
       "      <td>0.159651</td>\n",
       "      <td>0.216225</td>\n",
       "      <td>-0.013885</td>\n",
       "      <td>1.000000</td>\n",
       "      <td>-0.503355</td>\n",
       "      <td>-0.225021</td>\n",
       "      <td>0.003753</td>\n",
       "      <td>0.217138</td>\n",
       "      <td>0.271832</td>\n",
       "      <td>0.559734</td>\n",
       "      <td>0.021789</td>\n",
       "    </tr>\n",
       "    <tr>\n",
       "      <th>Cabin</th>\n",
       "      <td>-0.035077</td>\n",
       "      <td>-0.254888</td>\n",
       "      <td>0.684121</td>\n",
       "      <td>0.061959</td>\n",
       "      <td>-0.096681</td>\n",
       "      <td>-0.240839</td>\n",
       "      <td>0.043593</td>\n",
       "      <td>-0.028324</td>\n",
       "      <td>0.243696</td>\n",
       "      <td>-0.503355</td>\n",
       "      <td>1.000000</td>\n",
       "      <td>0.202811</td>\n",
       "      <td>0.072528</td>\n",
       "      <td>0.015644</td>\n",
       "      <td>-0.105773</td>\n",
       "      <td>-0.453861</td>\n",
       "      <td>-0.038481</td>\n",
       "    </tr>\n",
       "    <tr>\n",
       "      <th>Embarked</th>\n",
       "      <td>0.011151</td>\n",
       "      <td>-0.168504</td>\n",
       "      <td>0.162990</td>\n",
       "      <td>-0.007682</td>\n",
       "      <td>-0.109121</td>\n",
       "      <td>-0.018761</td>\n",
       "      <td>0.067441</td>\n",
       "      <td>0.039059</td>\n",
       "      <td>-0.002012</td>\n",
       "      <td>-0.225021</td>\n",
       "      <td>0.202811</td>\n",
       "      <td>1.000000</td>\n",
       "      <td>-0.012770</td>\n",
       "      <td>0.065607</td>\n",
       "      <td>-0.064573</td>\n",
       "      <td>-0.111874</td>\n",
       "      <td>0.014190</td>\n",
       "    </tr>\n",
       "    <tr>\n",
       "      <th>Child</th>\n",
       "      <td>-0.017941</td>\n",
       "      <td>0.136107</td>\n",
       "      <td>0.121920</td>\n",
       "      <td>-0.033899</td>\n",
       "      <td>0.111141</td>\n",
       "      <td>-0.566310</td>\n",
       "      <td>0.352437</td>\n",
       "      <td>0.351481</td>\n",
       "      <td>-0.030699</td>\n",
       "      <td>0.003753</td>\n",
       "      <td>0.072528</td>\n",
       "      <td>-0.012770</td>\n",
       "      <td>1.000000</td>\n",
       "      <td>0.416472</td>\n",
       "      <td>0.347400</td>\n",
       "      <td>0.181696</td>\n",
       "      <td>0.552359</td>\n",
       "    </tr>\n",
       "    <tr>\n",
       "      <th>Relatives</th>\n",
       "      <td>-0.040143</td>\n",
       "      <td>0.016639</td>\n",
       "      <td>0.065997</td>\n",
       "      <td>-0.036309</td>\n",
       "      <td>0.200988</td>\n",
       "      <td>-0.245619</td>\n",
       "      <td>0.890712</td>\n",
       "      <td>0.783111</td>\n",
       "      <td>0.064302</td>\n",
       "      <td>0.217138</td>\n",
       "      <td>0.015644</td>\n",
       "      <td>0.065607</td>\n",
       "      <td>0.416472</td>\n",
       "      <td>1.000000</td>\n",
       "      <td>0.690922</td>\n",
       "      <td>0.475397</td>\n",
       "      <td>0.237687</td>\n",
       "    </tr>\n",
       "    <tr>\n",
       "      <th>Has_Relatives</th>\n",
       "      <td>-0.057462</td>\n",
       "      <td>0.203367</td>\n",
       "      <td>-0.135207</td>\n",
       "      <td>-0.070722</td>\n",
       "      <td>0.303646</td>\n",
       "      <td>-0.171647</td>\n",
       "      <td>0.584471</td>\n",
       "      <td>0.583398</td>\n",
       "      <td>-0.028314</td>\n",
       "      <td>0.271832</td>\n",
       "      <td>-0.105773</td>\n",
       "      <td>-0.064573</td>\n",
       "      <td>0.347400</td>\n",
       "      <td>0.690922</td>\n",
       "      <td>1.000000</td>\n",
       "      <td>0.581284</td>\n",
       "      <td>0.190486</td>\n",
       "    </tr>\n",
       "    <tr>\n",
       "      <th>Fare_Category</th>\n",
       "      <td>-0.023617</td>\n",
       "      <td>0.298639</td>\n",
       "      <td>-0.622681</td>\n",
       "      <td>-0.057830</td>\n",
       "      <td>0.242886</td>\n",
       "      <td>0.079545</td>\n",
       "      <td>0.399508</td>\n",
       "      <td>0.405031</td>\n",
       "      <td>-0.141849</td>\n",
       "      <td>0.559734</td>\n",
       "      <td>-0.453861</td>\n",
       "      <td>-0.111874</td>\n",
       "      <td>0.181696</td>\n",
       "      <td>0.475397</td>\n",
       "      <td>0.581284</td>\n",
       "      <td>1.000000</td>\n",
       "      <td>0.130629</td>\n",
       "    </tr>\n",
       "    <tr>\n",
       "      <th>Age_Category</th>\n",
       "      <td>-0.006265</td>\n",
       "      <td>0.048840</td>\n",
       "      <td>0.010250</td>\n",
       "      <td>-0.021000</td>\n",
       "      <td>0.048449</td>\n",
       "      <td>-0.183045</td>\n",
       "      <td>0.188374</td>\n",
       "      <td>0.218062</td>\n",
       "      <td>-0.012135</td>\n",
       "      <td>0.021789</td>\n",
       "      <td>-0.038481</td>\n",
       "      <td>0.014190</td>\n",
       "      <td>0.552359</td>\n",
       "      <td>0.237687</td>\n",
       "      <td>0.190486</td>\n",
       "      <td>0.130629</td>\n",
       "      <td>1.000000</td>\n",
       "    </tr>\n",
       "  </tbody>\n",
       "</table>\n",
       "</div>"
      ],
      "text/plain": [
       "               PassengerId  Survived    Pclass      Name       Sex       Age  \\\n",
       "PassengerId       1.000000 -0.005007 -0.035144 -0.038559 -0.042939  0.034212   \n",
       "Survived         -0.005007  1.000000 -0.338481 -0.057343  0.543351 -0.064910   \n",
       "Pclass           -0.035144 -0.338481  1.000000  0.052831 -0.131900 -0.339898   \n",
       "Name             -0.038559 -0.057343  0.052831  1.000000 -0.020314  0.048252   \n",
       "Sex              -0.042939  0.543351 -0.131900 -0.020314  1.000000 -0.081163   \n",
       "Age               0.034212 -0.064910 -0.339898  0.048252 -0.081163  1.000000   \n",
       "SibSp            -0.057527 -0.035322  0.083081 -0.017230  0.114631 -0.233296   \n",
       "Parch            -0.001652  0.081629  0.018443 -0.049105  0.245489 -0.172482   \n",
       "Ticket           -0.056554 -0.164549  0.319869  0.047348 -0.059372 -0.070382   \n",
       "Fare              0.012658  0.257307 -0.549500 -0.049173  0.182333  0.096688   \n",
       "Cabin            -0.035077 -0.254888  0.684121  0.061959 -0.096681 -0.240839   \n",
       "Embarked          0.011151 -0.168504  0.162990 -0.007682 -0.109121 -0.018761   \n",
       "Child            -0.017941  0.136107  0.121920 -0.033899  0.111141 -0.566310   \n",
       "Relatives        -0.040143  0.016639  0.065997 -0.036309  0.200988 -0.245619   \n",
       "Has_Relatives    -0.057462  0.203367 -0.135207 -0.070722  0.303646 -0.171647   \n",
       "Fare_Category    -0.023617  0.298639 -0.622681 -0.057830  0.242886  0.079545   \n",
       "Age_Category     -0.006265  0.048840  0.010250 -0.021000  0.048449 -0.183045   \n",
       "\n",
       "                  SibSp     Parch    Ticket      Fare     Cabin  Embarked  \\\n",
       "PassengerId   -0.057527 -0.001652 -0.056554  0.012658 -0.035077  0.011151   \n",
       "Survived      -0.035322  0.081629 -0.164549  0.257307 -0.254888 -0.168504   \n",
       "Pclass         0.083081  0.018443  0.319869 -0.549500  0.684121  0.162990   \n",
       "Name          -0.017230 -0.049105  0.047348 -0.049173  0.061959 -0.007682   \n",
       "Sex            0.114631  0.245489 -0.059372  0.182333 -0.096681 -0.109121   \n",
       "Age           -0.233296 -0.172482 -0.070382  0.096688 -0.240839 -0.018761   \n",
       "SibSp          1.000000  0.414838  0.079461  0.159651  0.043593  0.067441   \n",
       "Parch          0.414838  1.000000  0.020003  0.216225 -0.028324  0.039059   \n",
       "Ticket         0.079461  0.020003  1.000000 -0.013885  0.243696 -0.002012   \n",
       "Fare           0.159651  0.216225 -0.013885  1.000000 -0.503355 -0.225021   \n",
       "Cabin          0.043593 -0.028324  0.243696 -0.503355  1.000000  0.202811   \n",
       "Embarked       0.067441  0.039059 -0.002012 -0.225021  0.202811  1.000000   \n",
       "Child          0.352437  0.351481 -0.030699  0.003753  0.072528 -0.012770   \n",
       "Relatives      0.890712  0.783111  0.064302  0.217138  0.015644  0.065607   \n",
       "Has_Relatives  0.584471  0.583398 -0.028314  0.271832 -0.105773 -0.064573   \n",
       "Fare_Category  0.399508  0.405031 -0.141849  0.559734 -0.453861 -0.111874   \n",
       "Age_Category   0.188374  0.218062 -0.012135  0.021789 -0.038481  0.014190   \n",
       "\n",
       "                  Child  Relatives  Has_Relatives  Fare_Category  Age_Category  \n",
       "PassengerId   -0.017941  -0.040143      -0.057462      -0.023617     -0.006265  \n",
       "Survived       0.136107   0.016639       0.203367       0.298639      0.048840  \n",
       "Pclass         0.121920   0.065997      -0.135207      -0.622681      0.010250  \n",
       "Name          -0.033899  -0.036309      -0.070722      -0.057830     -0.021000  \n",
       "Sex            0.111141   0.200988       0.303646       0.242886      0.048449  \n",
       "Age           -0.566310  -0.245619      -0.171647       0.079545     -0.183045  \n",
       "SibSp          0.352437   0.890712       0.584471       0.399508      0.188374  \n",
       "Parch          0.351481   0.783111       0.583398       0.405031      0.218062  \n",
       "Ticket        -0.030699   0.064302      -0.028314      -0.141849     -0.012135  \n",
       "Fare           0.003753   0.217138       0.271832       0.559734      0.021789  \n",
       "Cabin          0.072528   0.015644      -0.105773      -0.453861     -0.038481  \n",
       "Embarked      -0.012770   0.065607      -0.064573      -0.111874      0.014190  \n",
       "Child          1.000000   0.416472       0.347400       0.181696      0.552359  \n",
       "Relatives      0.416472   1.000000       0.690922       0.475397      0.237687  \n",
       "Has_Relatives  0.347400   0.690922       1.000000       0.581284      0.190486  \n",
       "Fare_Category  0.181696   0.475397       0.581284       1.000000      0.130629  \n",
       "Age_Category   0.552359   0.237687       0.190486       0.130629      1.000000  "
      ]
     },
     "execution_count": 458,
     "metadata": {},
     "output_type": "execute_result"
    }
   ],
   "source": [
    "# Посмотрела корреляцию данных. \n",
    "data.corr()"
   ]
  },
  {
   "cell_type": "code",
   "execution_count": 459,
   "metadata": {},
   "outputs": [
    {
     "data": {
      "text/plain": [
       "0"
      ]
     },
     "execution_count": 459,
     "metadata": {},
     "output_type": "execute_result"
    }
   ],
   "source": [
    "# Проваеряем есть ли пустые ячейки в колонке 'Age'.\n",
    "data['Age'].isnull().sum()\n",
    "# Выдало что в колонке Age 177 пассажиров у которых не указан возраст"
   ]
  },
  {
   "cell_type": "code",
   "execution_count": 460,
   "metadata": {},
   "outputs": [
    {
     "data": {
      "text/plain": [
       "Survived\n",
       "0    549\n",
       "1    342\n",
       "Name: count, dtype: int64"
      ]
     },
     "execution_count": 460,
     "metadata": {},
     "output_type": "execute_result"
    }
   ],
   "source": [
    "# выбор столбца Survived, который содержит информацию о том, выжил ли пассажир (1 — выжил, 0 — не выжил).\n",
    "data['Survived'].value_counts()\n",
    "# Это означает, что 549 человек не выжило, а 342 выжили."
   ]
  },
  {
   "cell_type": "code",
   "execution_count": 461,
   "metadata": {},
   "outputs": [
    {
     "data": {
      "text/plain": [
       "(891, 17)"
      ]
     },
     "execution_count": 461,
     "metadata": {},
     "output_type": "execute_result"
    }
   ],
   "source": [
    "data.shape\n",
    "# 891 строка (пассажир) и 12 столбцов (характеристик)."
   ]
  },
  {
   "cell_type": "code",
   "execution_count": 462,
   "metadata": {},
   "outputs": [
    {
     "data": {
      "text/plain": [
       "PassengerId      0\n",
       "Survived         0\n",
       "Pclass           0\n",
       "Name             0\n",
       "Sex              0\n",
       "Age              0\n",
       "SibSp            0\n",
       "Parch            0\n",
       "Ticket           0\n",
       "Fare             0\n",
       "Cabin            0\n",
       "Embarked         0\n",
       "Child            0\n",
       "Relatives        0\n",
       "Has_Relatives    0\n",
       "Fare_Category    0\n",
       "Age_Category     0\n",
       "dtype: int64"
      ]
     },
     "execution_count": 462,
     "metadata": {},
     "output_type": "execute_result"
    }
   ],
   "source": [
    "# Проверяет на наличие пустых ячеек\n",
    "data.isnull().sum()"
   ]
  },
  {
   "cell_type": "code",
   "execution_count": 463,
   "metadata": {},
   "outputs": [
    {
     "name": "stdout",
     "output_type": "stream",
     "text": [
      "<class 'pandas.core.frame.DataFrame'>\n",
      "RangeIndex: 891 entries, 0 to 890\n",
      "Data columns (total 17 columns):\n",
      " #   Column         Non-Null Count  Dtype   \n",
      "---  ------         --------------  -----   \n",
      " 0   PassengerId    891 non-null    int64   \n",
      " 1   Survived       891 non-null    int64   \n",
      " 2   Pclass         891 non-null    int64   \n",
      " 3   Name           891 non-null    int32   \n",
      " 4   Sex            891 non-null    int64   \n",
      " 5   Age            891 non-null    float64 \n",
      " 6   SibSp          891 non-null    int64   \n",
      " 7   Parch          891 non-null    int64   \n",
      " 8   Ticket         891 non-null    int32   \n",
      " 9   Fare           891 non-null    float64 \n",
      " 10  Cabin          891 non-null    int32   \n",
      " 11  Embarked       891 non-null    int32   \n",
      " 12  Child          891 non-null    int64   \n",
      " 13  Relatives      891 non-null    int64   \n",
      " 14  Has_Relatives  891 non-null    int64   \n",
      " 15  Fare_Category  891 non-null    category\n",
      " 16  Age_Category   891 non-null    category\n",
      "dtypes: category(2), float64(2), int32(4), int64(9)\n",
      "memory usage: 92.7 KB\n"
     ]
    }
   ],
   "source": [
    "# датафрейм содержит 891 запись и 12 столбцов, среди которых есть как числовые, так и категориальные данные.\n",
    "data.info()"
   ]
  },
  {
   "cell_type": "code",
   "execution_count": 467,
   "metadata": {},
   "outputs": [
    {
     "name": "stderr",
     "output_type": "stream",
     "text": [
      "C:\\Users\\user\\AppData\\Local\\Temp\\ipykernel_12252\\2124576783.py:1: FutureWarning: A value is trying to be set on a copy of a DataFrame or Series through chained assignment using an inplace method.\n",
      "The behavior will change in pandas 3.0. This inplace method will never work because the intermediate object on which we are setting values always behaves as a copy.\n",
      "\n",
      "For example, when doing 'df[col].method(value, inplace=True)', try using 'df.method({col: value}, inplace=True)' or df[col] = df[col].method(value) instead, to perform the operation inplace on the original object.\n",
      "\n",
      "\n",
      "  data['Age'].fillna(data['Age'].median(),inplace=True)\n"
     ]
    }
   ],
   "source": [
    "# вычисление медианы значений в столбце Age.\n",
    "data['Age'].fillna(data['Age'].median(),inplace=True)"
   ]
  },
  {
   "cell_type": "code",
   "execution_count": 471,
   "metadata": {},
   "outputs": [
    {
     "data": {
      "text/plain": [
       "array([22.  , 38.  , 26.  , 35.  , 28.  , 54.  ,  2.  , 27.  , 14.  ,\n",
       "        4.  , 58.  , 20.  , 39.  , 55.  , 31.  , 34.  , 15.  ,  8.  ,\n",
       "       19.  , 40.  , 66.  , 42.  , 21.  , 18.  ,  3.  ,  7.  , 49.  ,\n",
       "       29.  , 65.  , 28.5 ,  5.  , 11.  , 45.  , 17.  , 32.  , 16.  ,\n",
       "       25.  ,  0.83, 30.  , 33.  , 23.  , 24.  , 46.  , 59.  , 71.  ,\n",
       "       37.  , 47.  , 14.5 , 70.5 , 32.5 , 12.  ,  9.  , 36.5 , 51.  ,\n",
       "       55.5 , 40.5 , 44.  ,  1.  , 61.  , 56.  , 50.  , 36.  , 45.5 ,\n",
       "       20.5 , 62.  , 41.  , 52.  , 63.  , 23.5 ,  0.92, 43.  , 60.  ,\n",
       "       10.  , 64.  , 13.  , 48.  ,  0.75, 53.  , 57.  , 80.  , 70.  ,\n",
       "       24.5 ,  6.  ,  0.67, 30.5 ,  0.42, 34.5 , 74.  ])"
      ]
     },
     "execution_count": 471,
     "metadata": {},
     "output_type": "execute_result"
    }
   ],
   "source": [
    "# возвращает уникальные значения из указанного столбца (или массива данных).\n",
    "data['Age'].unique()"
   ]
  },
  {
   "cell_type": "markdown",
   "metadata": {},
   "source": [
    "Modeling"
   ]
  },
  {
   "cell_type": "code",
   "execution_count": 473,
   "metadata": {},
   "outputs": [
    {
     "data": {
      "text/plain": [
       "0.22821808306282682"
      ]
     },
     "execution_count": 473,
     "metadata": {},
     "output_type": "execute_result"
    }
   ],
   "source": [
    "import numpy as np\n",
    "np.var(data['Sex']) # считает дисперсию (variance) данных по полу пассажиров. \n",
    "# Дисперсия измеряет, насколько данные отклоняются от среднего значения."
   ]
  },
  {
   "cell_type": "code",
   "execution_count": 474,
   "metadata": {},
   "outputs": [],
   "source": [
    "import subprocess\n",
    "import sys\n",
    "# используется для автоматической установки Python-пакетов через pip. \n",
    "# Здесь устанавливаются библиотеки для работы с нейронными сетями: Keras и TensorFlow.\n",
    "def install(package):\n",
    "    subprocess.check_call([sys.executable, \"-m\", \"pip\", \"install\", package])\n",
    "install(\"keras\")\n",
    "install(\"tensorflow\")"
   ]
  },
  {
   "cell_type": "code",
   "execution_count": 475,
   "metadata": {},
   "outputs": [],
   "source": [
    "columns_target = ['Survived'] # наша целевая колонка\n",
    "columns_train = ['Pclass', 'Sex', 'Age', 'Fare'] # Включает в себя колонки 'Pclass', 'Sex', 'Age', 'Fare'.\n"
   ]
  },
  {
   "cell_type": "code",
   "execution_count": 476,
   "metadata": {},
   "outputs": [],
   "source": [
    "X = data[columns_train] # Включает в себя колонки 'Pclass', 'Sex', 'Age', 'Fare'.\n",
    "y = data[columns_target] # Включает в себя колонку 'Survived'."
   ]
  },
  {
   "cell_type": "code",
   "execution_count": 477,
   "metadata": {},
   "outputs": [
    {
     "name": "stdout",
     "output_type": "stream",
     "text": [
      "Epoch 1/30\n"
     ]
    },
    {
     "name": "stderr",
     "output_type": "stream",
     "text": [
      "c:\\Users\\user\\AppData\\Local\\Programs\\Python\\Python312\\Lib\\site-packages\\keras\\src\\layers\\core\\dense.py:87: UserWarning: Do not pass an `input_shape`/`input_dim` argument to a layer. When using Sequential models, prefer using an `Input(shape)` object as the first layer in the model instead.\n",
      "  super().__init__(activity_regularizer=activity_regularizer, **kwargs)\n"
     ]
    },
    {
     "name": "stdout",
     "output_type": "stream",
     "text": [
      "\u001b[1m29/29\u001b[0m \u001b[32m━━━━━━━━━━━━━━━━━━━━\u001b[0m\u001b[37m\u001b[0m \u001b[1m2s\u001b[0m 14ms/step - accuracy: 0.5681 - loss: 3.4823 - val_accuracy: 0.8042 - val_loss: 2.7610\n",
      "Epoch 2/30\n",
      "\u001b[1m29/29\u001b[0m \u001b[32m━━━━━━━━━━━━━━━━━━━━\u001b[0m\u001b[37m\u001b[0m \u001b[1m0s\u001b[0m 4ms/step - accuracy: 0.7642 - loss: 2.5996 - val_accuracy: 0.8112 - val_loss: 2.0562\n",
      "Epoch 3/30\n",
      "\u001b[1m29/29\u001b[0m \u001b[32m━━━━━━━━━━━━━━━━━━━━\u001b[0m\u001b[37m\u001b[0m \u001b[1m0s\u001b[0m 3ms/step - accuracy: 0.7519 - loss: 1.9813 - val_accuracy: 0.8252 - val_loss: 1.5674\n",
      "Epoch 4/30\n",
      "\u001b[1m29/29\u001b[0m \u001b[32m━━━━━━━━━━━━━━━━━━━━\u001b[0m\u001b[37m\u001b[0m \u001b[1m0s\u001b[0m 3ms/step - accuracy: 0.7897 - loss: 1.5284 - val_accuracy: 0.8252 - val_loss: 1.2279\n",
      "Epoch 5/30\n",
      "\u001b[1m29/29\u001b[0m \u001b[32m━━━━━━━━━━━━━━━━━━━━\u001b[0m\u001b[37m\u001b[0m \u001b[1m0s\u001b[0m 3ms/step - accuracy: 0.7972 - loss: 1.2023 - val_accuracy: 0.8182 - val_loss: 0.9915\n",
      "Epoch 6/30\n",
      "\u001b[1m29/29\u001b[0m \u001b[32m━━━━━━━━━━━━━━━━━━━━\u001b[0m\u001b[37m\u001b[0m \u001b[1m0s\u001b[0m 3ms/step - accuracy: 0.7945 - loss: 0.9875 - val_accuracy: 0.8322 - val_loss: 0.8258\n",
      "Epoch 7/30\n",
      "\u001b[1m29/29\u001b[0m \u001b[32m━━━━━━━━━━━━━━━━━━━━\u001b[0m\u001b[37m\u001b[0m \u001b[1m0s\u001b[0m 3ms/step - accuracy: 0.7692 - loss: 0.8498 - val_accuracy: 0.8182 - val_loss: 0.7131\n",
      "Epoch 8/30\n",
      "\u001b[1m29/29\u001b[0m \u001b[32m━━━━━━━━━━━━━━━━━━━━\u001b[0m\u001b[37m\u001b[0m \u001b[1m0s\u001b[0m 3ms/step - accuracy: 0.7709 - loss: 0.7692 - val_accuracy: 0.7972 - val_loss: 0.6373\n",
      "Epoch 9/30\n",
      "\u001b[1m29/29\u001b[0m \u001b[32m━━━━━━━━━━━━━━━━━━━━\u001b[0m\u001b[37m\u001b[0m \u001b[1m0s\u001b[0m 3ms/step - accuracy: 0.8002 - loss: 0.6537 - val_accuracy: 0.7972 - val_loss: 0.5816\n",
      "Epoch 10/30\n",
      "\u001b[1m29/29\u001b[0m \u001b[32m━━━━━━━━━━━━━━━━━━━━\u001b[0m\u001b[37m\u001b[0m \u001b[1m0s\u001b[0m 3ms/step - accuracy: 0.7827 - loss: 0.6231 - val_accuracy: 0.8182 - val_loss: 0.5481\n",
      "Epoch 11/30\n",
      "\u001b[1m29/29\u001b[0m \u001b[32m━━━━━━━━━━━━━━━━━━━━\u001b[0m\u001b[37m\u001b[0m \u001b[1m0s\u001b[0m 3ms/step - accuracy: 0.7674 - loss: 0.5782 - val_accuracy: 0.8182 - val_loss: 0.5219\n",
      "Epoch 12/30\n",
      "\u001b[1m29/29\u001b[0m \u001b[32m━━━━━━━━━━━━━━━━━━━━\u001b[0m\u001b[37m\u001b[0m \u001b[1m0s\u001b[0m 3ms/step - accuracy: 0.7954 - loss: 0.5717 - val_accuracy: 0.7902 - val_loss: 0.5017\n",
      "Epoch 13/30\n",
      "\u001b[1m29/29\u001b[0m \u001b[32m━━━━━━━━━━━━━━━━━━━━\u001b[0m\u001b[37m\u001b[0m \u001b[1m0s\u001b[0m 3ms/step - accuracy: 0.7767 - loss: 0.5568 - val_accuracy: 0.8112 - val_loss: 0.4886\n",
      "Epoch 14/30\n",
      "\u001b[1m29/29\u001b[0m \u001b[32m━━━━━━━━━━━━━━━━━━━━\u001b[0m\u001b[37m\u001b[0m \u001b[1m0s\u001b[0m 4ms/step - accuracy: 0.7945 - loss: 0.5480 - val_accuracy: 0.8252 - val_loss: 0.4786\n",
      "Epoch 15/30\n",
      "\u001b[1m29/29\u001b[0m \u001b[32m━━━━━━━━━━━━━━━━━━━━\u001b[0m\u001b[37m\u001b[0m \u001b[1m0s\u001b[0m 4ms/step - accuracy: 0.8088 - loss: 0.5102 - val_accuracy: 0.7972 - val_loss: 0.4873\n",
      "Epoch 16/30\n",
      "\u001b[1m29/29\u001b[0m \u001b[32m━━━━━━━━━━━━━━━━━━━━\u001b[0m\u001b[37m\u001b[0m \u001b[1m0s\u001b[0m 4ms/step - accuracy: 0.8086 - loss: 0.5004 - val_accuracy: 0.8042 - val_loss: 0.4695\n",
      "Epoch 17/30\n",
      "\u001b[1m29/29\u001b[0m \u001b[32m━━━━━━━━━━━━━━━━━━━━\u001b[0m\u001b[37m\u001b[0m \u001b[1m0s\u001b[0m 4ms/step - accuracy: 0.7956 - loss: 0.5054 - val_accuracy: 0.7902 - val_loss: 0.4627\n",
      "Epoch 18/30\n",
      "\u001b[1m29/29\u001b[0m \u001b[32m━━━━━━━━━━━━━━━━━━━━\u001b[0m\u001b[37m\u001b[0m \u001b[1m0s\u001b[0m 5ms/step - accuracy: 0.7788 - loss: 0.5193 - val_accuracy: 0.8182 - val_loss: 0.4666\n",
      "Epoch 19/30\n",
      "\u001b[1m29/29\u001b[0m \u001b[32m━━━━━━━━━━━━━━━━━━━━\u001b[0m\u001b[37m\u001b[0m \u001b[1m0s\u001b[0m 5ms/step - accuracy: 0.7369 - loss: 0.5606 - val_accuracy: 0.8252 - val_loss: 0.4600\n",
      "Epoch 20/30\n",
      "\u001b[1m29/29\u001b[0m \u001b[32m━━━━━━━━━━━━━━━━━━━━\u001b[0m\u001b[37m\u001b[0m \u001b[1m0s\u001b[0m 4ms/step - accuracy: 0.7844 - loss: 0.5208 - val_accuracy: 0.8112 - val_loss: 0.4583\n",
      "Epoch 21/30\n",
      "\u001b[1m29/29\u001b[0m \u001b[32m━━━━━━━━━━━━━━━━━━━━\u001b[0m\u001b[37m\u001b[0m \u001b[1m0s\u001b[0m 4ms/step - accuracy: 0.8006 - loss: 0.4959 - val_accuracy: 0.8042 - val_loss: 0.4577\n",
      "Epoch 22/30\n",
      "\u001b[1m29/29\u001b[0m \u001b[32m━━━━━━━━━━━━━━━━━━━━\u001b[0m\u001b[37m\u001b[0m \u001b[1m0s\u001b[0m 4ms/step - accuracy: 0.8311 - loss: 0.4577 - val_accuracy: 0.8042 - val_loss: 0.4661\n",
      "Epoch 23/30\n",
      "\u001b[1m29/29\u001b[0m \u001b[32m━━━━━━━━━━━━━━━━━━━━\u001b[0m\u001b[37m\u001b[0m \u001b[1m0s\u001b[0m 5ms/step - accuracy: 0.8151 - loss: 0.4720 - val_accuracy: 0.7902 - val_loss: 0.4635\n",
      "Epoch 24/30\n",
      "\u001b[1m29/29\u001b[0m \u001b[32m━━━━━━━━━━━━━━━━━━━━\u001b[0m\u001b[37m\u001b[0m \u001b[1m0s\u001b[0m 4ms/step - accuracy: 0.8000 - loss: 0.4847 - val_accuracy: 0.8182 - val_loss: 0.4539\n",
      "Epoch 25/30\n",
      "\u001b[1m29/29\u001b[0m \u001b[32m━━━━━━━━━━━━━━━━━━━━\u001b[0m\u001b[37m\u001b[0m \u001b[1m0s\u001b[0m 4ms/step - accuracy: 0.8048 - loss: 0.4936 - val_accuracy: 0.8182 - val_loss: 0.4550\n",
      "Epoch 26/30\n",
      "\u001b[1m29/29\u001b[0m \u001b[32m━━━━━━━━━━━━━━━━━━━━\u001b[0m\u001b[37m\u001b[0m \u001b[1m0s\u001b[0m 5ms/step - accuracy: 0.8008 - loss: 0.4892 - val_accuracy: 0.8112 - val_loss: 0.4505\n",
      "Epoch 27/30\n",
      "\u001b[1m29/29\u001b[0m \u001b[32m━━━━━━━━━━━━━━━━━━━━\u001b[0m\u001b[37m\u001b[0m \u001b[1m0s\u001b[0m 3ms/step - accuracy: 0.8037 - loss: 0.5017 - val_accuracy: 0.7972 - val_loss: 0.4604\n",
      "Epoch 28/30\n",
      "\u001b[1m29/29\u001b[0m \u001b[32m━━━━━━━━━━━━━━━━━━━━\u001b[0m\u001b[37m\u001b[0m \u001b[1m0s\u001b[0m 4ms/step - accuracy: 0.7697 - loss: 0.5552 - val_accuracy: 0.8112 - val_loss: 0.4511\n",
      "Epoch 29/30\n",
      "\u001b[1m29/29\u001b[0m \u001b[32m━━━━━━━━━━━━━━━━━━━━\u001b[0m\u001b[37m\u001b[0m \u001b[1m0s\u001b[0m 3ms/step - accuracy: 0.7710 - loss: 0.5138 - val_accuracy: 0.8042 - val_loss: 0.4488\n",
      "Epoch 30/30\n",
      "\u001b[1m29/29\u001b[0m \u001b[32m━━━━━━━━━━━━━━━━━━━━\u001b[0m\u001b[37m\u001b[0m \u001b[1m0s\u001b[0m 3ms/step - accuracy: 0.7806 - loss: 0.4956 - val_accuracy: 0.8112 - val_loss: 0.4499\n",
      "\u001b[1m6/6\u001b[0m \u001b[32m━━━━━━━━━━━━━━━━━━━━\u001b[0m\u001b[37m\u001b[0m \u001b[1m0s\u001b[0m 4ms/step - accuracy: 0.8123 - loss: 0.4738\n",
      "Test Accuracy: 0.80\n"
     ]
    }
   ],
   "source": [
    "# Обучение модели\n",
    "# Импортируются необходимые библиотеки train_test_split, StandardScaler, Sequential, l2.\n",
    "from sklearn.model_selection import train_test_split\n",
    "from sklearn.datasets import make_classification\n",
    "from sklearn.preprocessing import StandardScaler\n",
    "from keras.models import Sequential\n",
    "from keras.layers import Dense, Dropout\n",
    "from sklearn.preprocessing import normalize\n",
    "from keras.regularizers import l2\n",
    "\n",
    "\n",
    "# Train-test split\n",
    "# train_test_split — разделяет данные на обучающую (80%) и тестовую (20%) выборки. \n",
    "# random_state=42 фиксирует случайность для повторимости результатов.\n",
    "X_train, X_test, y_train, y_test = train_test_split(X, y, test_size=0.2, random_state=42)\n",
    "\n",
    "# Стандартизировать data вместо нормализации\n",
    "scaler = StandardScaler()\n",
    "X_train = scaler.fit_transform(X_train)\n",
    "X_test = scaler.transform(X_test)\n",
    "\n",
    "# Создаем модель нейронной сети\n",
    "model = Sequential()\n",
    "\n",
    "# Скорректируем архитектуру, увеличиваем количество единиц измерения и добавить выпадающие слои Dense, Dropout.\n",
    "model.add(Dense(units=128, activation='leaky_relu', input_shape=(X_train.shape[1],), kernel_regularizer=l2(0.001)))\n",
    "model.add(Dropout(0.3))\n",
    "model.add(Dense(units=64, activation='leaky_relu', input_shape=(X_train.shape[1],), kernel_regularizer=l2(0.01)))\n",
    "model.add(Dropout(0.3))\n",
    "model.add(Dense(units=32, activation='leaky_relu', input_shape=(X_train.shape[1],), kernel_regularizer=l2(0.05)))\n",
    "model.add(Dropout(0.3))\n",
    "model.add(Dense(units=1, activation='sigmoid'))\n",
    "\n",
    "# Скомпилируем модель, добавляем различные скорости обучения или оптимизаторы.\n",
    "# используется оптимизатор Adam, функция потерь — binary_crossentropy.\n",
    "model.compile(optimizer='adam', loss='binary_crossentropy', metrics=['accuracy'])\n",
    "\n",
    "# Тренировка модели по эпохам\n",
    "# модель обучается на данных X_train и y_train в течение 30 эпох с размером батча 20. \n",
    "# 20% данных из обучающей выборки используется для валидации модели.\n",
    "history = model.fit(X_train, y_train, epochs=30, batch_size=20, validation_split=0.2)\n",
    "\n",
    "# Оценка модели\n",
    "loss, accuracy = model.evaluate(X_test, y_test)\n",
    "print(f'Test Accuracy: {accuracy:.2f}')"
   ]
  },
  {
   "cell_type": "code",
   "execution_count": 478,
   "metadata": {},
   "outputs": [
    {
     "data": {
      "image/png": "[encoded data removed]",
      "text/plain": [
       "<Figure size 640x480 with 1 Axes>"
      ]
     },
     "metadata": {},
     "output_type": "display_data"
    }
   ],
   "source": [
    "import matplotlib.pyplot as plt\n",
    "%matplotlib inline\n",
    " # Строим график снижения loss по эпохам\n",
    "plt.plot(history.history['loss'])\n",
    "plt.plot(history.history['val_loss'])\n",
    "plt.title('model loss')\n",
    "plt.ylabel('loss')\n",
    "plt.xlabel('epoch')\n",
    "plt.legend(['train', 'val'], loc='upper left')\n",
    "plt.show()"
   ]
  },
  {
   "cell_type": "code",
   "execution_count": 479,
   "metadata": {},
   "outputs": [
    {
     "data": {
      "image/png": "[encoded data removed]",
      "text/plain": [
       "<Figure size 1200x800 with 4 Axes>"
      ]
     },
     "metadata": {},
     "output_type": "display_data"
    }
   ],
   "source": [
    "class HistoryDummy:\n",
    "    def __init__(self):\n",
    "        self.history = {\n",
    "            'loss': history.history['loss'],\n",
    "            'val_loss': history.history['val_loss'],\n",
    "            'accuracy': history.history['accuracy'],\n",
    "            'val_accuracy': history.history['val_accuracy']\n",
    "        }\n",
    "\n",
    "history = HistoryDummy()\n",
    "\n",
    "# График 1: Потери при обучении в сравнении с потерями при проверке\n",
    "plt.figure(figsize=(12, 8))\n",
    "\n",
    "# График loss (потерь)\n",
    "plt.subplot(2, 2, 1)\n",
    "plt.plot(history.history['loss'], label='Training Loss')\n",
    "plt.plot(history.history['val_loss'], label='Validation Loss')\n",
    "plt.title('График loss (потерь)')\n",
    "plt.xlabel('Epochs')\n",
    "plt.ylabel('Loss')\n",
    "plt.legend()\n",
    "\n",
    "# График точности\n",
    "plt.subplot(2, 2, 2)\n",
    "plt.plot(history.history['accuracy'], label='Training Accuracy')\n",
    "plt.plot(history.history['val_accuracy'], label='Validation Accuracy')\n",
    "plt.title('График точности')\n",
    "plt.xlabel('Epochs')\n",
    "plt.ylabel('Accuracy')\n",
    "plt.legend()\n",
    "\n",
    "# Комбинированные потери и точность на одном графике\n",
    "plt.subplot(2, 2, 3)\n",
    "plt.plot(history.history['loss'], label='Training Loss', color='red')\n",
    "plt.plot(history.history['accuracy'], label='Training Accuracy', color='blue')\n",
    "plt.title('Тренировка Loss и Accuracy')\n",
    "plt.xlabel('Epochs')\n",
    "plt.legend()\n",
    "\n",
    "# График val_loss и val_accuracy\n",
    "plt.subplot(2, 2, 4)\n",
    "plt.plot(history.history['val_loss'], label='Validation Loss', color='green')\n",
    "plt.plot(history.history['val_accuracy'], label='Validation Accuracy', color='purple')\n",
    "plt.title('Validation Loss и Accuracy')\n",
    "plt.xlabel('Epochs')\n",
    "plt.legend()\n",
    "\n",
    "plt.tight_layout()\n",
    "plt.show()\n"
   ]
  },
  {
   "cell_type": "code",
   "execution_count": 480,
   "metadata": {},
   "outputs": [
    {
     "data": {
      "text/plain": [
       "['fully-connected-model.pkl']"
      ]
     },
     "execution_count": 480,
     "metadata": {},
     "output_type": "execute_result"
    }
   ],
   "source": [
    "import joblib\n",
    "joblib.dump(model, 'fully-connected-model.pkl')"
   ]
  },
  {
   "cell_type": "code",
   "execution_count": 481,
   "metadata": {},
   "outputs": [],
   "source": [
    "model_loaded = joblib.load('fully-connected-model.pkl')"
   ]
  },
  {
   "cell_type": "code",
   "execution_count": 482,
   "metadata": {},
   "outputs": [
    {
     "name": "stdout",
     "output_type": "stream",
     "text": [
      "WARNING:tensorflow:5 out of the last 13 calls to <function TensorFlowTrainer.make_predict_function.<locals>.one_step_on_data_distributed at 0x000001C0863409A0> triggered tf.function retracing. Tracing is expensive and the excessive number of tracings could be due to (1) creating @tf.function repeatedly in a loop, (2) passing tensors with different shapes, (3) passing Python objects instead of tensors. For (1), please define your @tf.function outside of the loop. For (2), @tf.function has reduce_retracing=True option that can avoid unnecessary retracing. For (3), please refer to https://www.tensorflow.org/guide/function#controlling_retracing and https://www.tensorflow.org/api_docs/python/tf/function for  more details.\n",
      "\u001b[1m6/6\u001b[0m \u001b[32m━━━━━━━━━━━━━━━━━━━━\u001b[0m\u001b[37m\u001b[0m \u001b[1m0s\u001b[0m 8ms/step \n"
     ]
    },
    {
     "data": {
      "text/plain": [
       "array([[0.14710082],\n",
       "       [0.16293319],\n",
       "       [0.16300426],\n",
       "       [0.8913935 ],\n",
       "       [0.51701665],\n",
       "       [0.96652895],\n",
       "       [0.4861793 ],\n",
       "       [0.1761456 ],\n",
       "       [0.5134568 ],\n",
       "       [0.9715524 ],\n",
       "       [0.37176663],\n",
       "       [0.118363  ],\n",
       "       [0.46334407],\n",
       "       [0.14110611],\n",
       "       [0.15168694],\n",
       "       [0.9714267 ],\n",
       "       [0.32906485],\n",
       "       [0.48607495],\n",
       "       [0.17534207],\n",
       "       [0.300677  ],\n",
       "       [0.15363969],\n",
       "       [0.38549656],\n",
       "       [0.5021262 ],\n",
       "       [0.16333257],\n",
       "       [0.1468944 ],\n",
       "       [0.19765936],\n",
       "       [0.3304574 ],\n",
       "       [0.16337729],\n",
       "       [0.22250962],\n",
       "       [0.48248056],\n",
       "       [0.16553022],\n",
       "       [0.49476263],\n",
       "       [0.45417103],\n",
       "       [0.4864427 ],\n",
       "       [0.16818091],\n",
       "       [0.14891966],\n",
       "       [0.45592004],\n",
       "       [0.4861793 ],\n",
       "       [0.9686791 ],\n",
       "       [0.14518502],\n",
       "       [0.22511429],\n",
       "       [0.14296111],\n",
       "       [0.14522375],\n",
       "       [0.1451484 ],\n",
       "       [0.48390144],\n",
       "       [0.18067205],\n",
       "       [0.16559733],\n",
       "       [0.1561957 ],\n",
       "       [0.1534305 ],\n",
       "       [0.33322284],\n",
       "       [0.5775491 ],\n",
       "       [0.96005523],\n",
       "       [0.12933035],\n",
       "       [0.66989756],\n",
       "       [0.0934001 ],\n",
       "       [0.9684007 ],\n",
       "       [0.16020663],\n",
       "       [0.9566396 ],\n",
       "       [0.8703833 ],\n",
       "       [0.50209105],\n",
       "       [0.16048495],\n",
       "       [0.888178  ],\n",
       "       [0.8737947 ],\n",
       "       [0.4523929 ],\n",
       "       [0.1451484 ],\n",
       "       [0.86442447],\n",
       "       [0.22511429],\n",
       "       [0.14317605],\n",
       "       [0.17067489],\n",
       "       [0.9606966 ],\n",
       "       [0.87526596],\n",
       "       [0.95499796],\n",
       "       [0.4784909 ],\n",
       "       [0.9632924 ],\n",
       "       [0.15585177],\n",
       "       [0.13264315],\n",
       "       [0.48286855],\n",
       "       [0.9693013 ],\n",
       "       [0.87114644],\n",
       "       [0.4715049 ],\n",
       "       [0.18203777],\n",
       "       [0.87764496],\n",
       "       [0.96023166],\n",
       "       [0.14514525],\n",
       "       [0.2504158 ],\n",
       "       [0.24719806],\n",
       "       [0.9628702 ],\n",
       "       [0.9670035 ],\n",
       "       [0.333346  ],\n",
       "       [0.14502291],\n",
       "       [0.19981042],\n",
       "       [0.52348024],\n",
       "       [0.24309838],\n",
       "       [0.14514315],\n",
       "       [0.14518502],\n",
       "       [0.14517455],\n",
       "       [0.29581356],\n",
       "       [0.11692319],\n",
       "       [0.8720912 ],\n",
       "       [0.14724182],\n",
       "       [0.23404472],\n",
       "       [0.13216197],\n",
       "       [0.9674646 ],\n",
       "       [0.12721048],\n",
       "       [0.14038183],\n",
       "       [0.15141276],\n",
       "       [0.8641337 ],\n",
       "       [0.28984287],\n",
       "       [0.14170833],\n",
       "       [0.3324083 ],\n",
       "       [0.96778023],\n",
       "       [0.16158567],\n",
       "       [0.96534914],\n",
       "       [0.3650053 ],\n",
       "       [0.5055099 ],\n",
       "       [0.16348952],\n",
       "       [0.23452866],\n",
       "       [0.15165927],\n",
       "       [0.8773165 ],\n",
       "       [0.4977938 ],\n",
       "       [0.19369367],\n",
       "       [0.96522427],\n",
       "       [0.95993793],\n",
       "       [0.5526674 ],\n",
       "       [0.15128443],\n",
       "       [0.37516722],\n",
       "       [0.9636315 ],\n",
       "       [0.5162438 ],\n",
       "       [0.47735178],\n",
       "       [0.160553  ],\n",
       "       [0.48600912],\n",
       "       [0.14710082],\n",
       "       [0.17003702],\n",
       "       [0.58445346],\n",
       "       [0.29558054],\n",
       "       [0.50794476],\n",
       "       [0.9638064 ],\n",
       "       [0.1431501 ],\n",
       "       [0.1211776 ],\n",
       "       [0.49184322],\n",
       "       [0.16064785],\n",
       "       [0.8683994 ],\n",
       "       [0.17221408],\n",
       "       [0.15314084],\n",
       "       [0.46418566],\n",
       "       [0.86740077],\n",
       "       [0.16617946],\n",
       "       [0.12100559],\n",
       "       [0.9614126 ],\n",
       "       [0.11982152],\n",
       "       [0.14539035],\n",
       "       [0.15354073],\n",
       "       [0.1681179 ],\n",
       "       [0.46501616],\n",
       "       [0.14522375],\n",
       "       [0.14497274],\n",
       "       [0.15922831],\n",
       "       [0.4861299 ],\n",
       "       [0.8681613 ],\n",
       "       [0.4723614 ],\n",
       "       [0.15458223],\n",
       "       [0.4526137 ],\n",
       "       [0.1464526 ],\n",
       "       [0.96581644],\n",
       "       [0.14532642],\n",
       "       [0.2657801 ],\n",
       "       [0.19355273],\n",
       "       [0.96778893],\n",
       "       [0.15812922],\n",
       "       [0.13214268],\n",
       "       [0.5274513 ],\n",
       "       [0.8853321 ],\n",
       "       [0.3650581 ],\n",
       "       [0.5417428 ],\n",
       "       [0.17064956],\n",
       "       [0.14501664],\n",
       "       [0.46128586],\n",
       "       [0.88698304],\n",
       "       [0.5904939 ]], dtype=float32)"
      ]
     },
     "execution_count": 482,
     "metadata": {},
     "output_type": "execute_result"
    }
   ],
   "source": [
    "model_loaded.predict(X_test)"
   ]
  },
  {
   "cell_type": "code",
   "execution_count": null,
   "metadata": {},
   "outputs": [],
   "source": []
  },
  {
   "cell_type": "code",
   "execution_count": null,
   "metadata": {},
   "outputs": [],
   "source": []
  },
  {
   "cell_type": "code",
   "execution_count": null,
   "metadata": {},
   "outputs": [],
   "source": []
  },
  {
   "cell_type": "code",
   "execution_count": null,
   "metadata": {},
   "outputs": [],
   "source": []
  },
  {
   "cell_type": "code",
   "execution_count": null,
   "metadata": {},
   "outputs": [],
   "source": []
  },
  {
   "cell_type": "code",
   "execution_count": null,
   "metadata": {},
   "outputs": [],
   "source": []
  },
  {
   "cell_type": "code",
   "execution_count": null,
   "metadata": {},
   "outputs": [],
   "source": []
  },
  {
   "cell_type": "code",
   "execution_count": null,
   "metadata": {},
   "outputs": [],
   "source": []
  },
  {
   "cell_type": "code",
   "execution_count": null,
   "metadata": {},
   "outputs": [],
   "source": []
  },
  {
   "cell_type": "code",
   "execution_count": null,
   "metadata": {},
   "outputs": [],
   "source": []
  },
  {
   "cell_type": "code",
   "execution_count": null,
   "metadata": {},
   "outputs": [],
   "source": []
  },
  {
   "cell_type": "code",
   "execution_count": null,
   "metadata": {},
   "outputs": [],
   "source": []
  },
  {
   "cell_type": "code",
   "execution_count": null,
   "metadata": {},
   "outputs": [],
   "source": []
  },
  {
   "cell_type": "code",
   "execution_count": null,
   "metadata": {},
   "outputs": [],
   "source": []
  },
  {
   "cell_type": "code",
   "execution_count": null,
   "metadata": {},
   "outputs": [],
   "source": []
  },
  {
   "cell_type": "code",
   "execution_count": null,
   "metadata": {},
   "outputs": [],
   "source": []
  },
  {
   "cell_type": "code",
   "execution_count": null,
   "metadata": {},
   "outputs": [],
   "source": []
  },
  {
   "cell_type": "code",
   "execution_count": null,
   "metadata": {},
   "outputs": [],
   "source": []
  },
  {
   "cell_type": "code",
   "execution_count": null,
   "metadata": {},
   "outputs": [],
   "source": []
  },
  {
   "cell_type": "code",
   "execution_count": null,
   "metadata": {},
   "outputs": [],
   "source": []
  },
  {
   "cell_type": "code",
   "execution_count": null,
   "metadata": {},
   "outputs": [],
   "source": []
  },
  {
   "cell_type": "code",
   "execution_count": null,
   "metadata": {},
   "outputs": [],
   "source": []
  },
  {
   "cell_type": "code",
   "execution_count": null,
   "metadata": {},
   "outputs": [],
   "source": []
  },
  {
   "cell_type": "code",
   "execution_count": null,
   "metadata": {},
   "outputs": [],
   "source": []
  },
  {
   "cell_type": "code",
   "execution_count": null,
   "metadata": {},
   "outputs": [],
   "source": []
  },
  {
   "cell_type": "code",
   "execution_count": null,
   "metadata": {},
   "outputs": [],
   "source": []
  },
  {
   "cell_type": "code",
   "execution_count": null,
   "metadata": {},
   "outputs": [],
   "source": []
  },
  {
   "cell_type": "code",
   "execution_count": null,
   "metadata": {},
   "outputs": [],
   "source": []
  },
  {
   "cell_type": "code",
   "execution_count": null,
   "metadata": {},
   "outputs": [],
   "source": []
  },
  {
   "cell_type": "code",
   "execution_count": null,
   "metadata": {},
   "outputs": [],
   "source": []
  },
  {
   "cell_type": "code",
   "execution_count": null,
   "metadata": {},
   "outputs": [],
   "source": []
  },
  {
   "cell_type": "code",
   "execution_count": null,
   "metadata": {},
   "outputs": [],
   "source": []
  },
  {
   "cell_type": "code",
   "execution_count": null,
   "metadata": {},
   "outputs": [],
   "source": []
  },
  {
   "cell_type": "code",
   "execution_count": null,
   "metadata": {},
   "outputs": [],
   "source": []
  },
  {
   "cell_type": "code",
   "execution_count": null,
   "metadata": {},
   "outputs": [],
   "source": []
  },
  {
   "cell_type": "code",
   "execution_count": null,
   "metadata": {},
   "outputs": [],
   "source": []
  },
  {
   "cell_type": "code",
   "execution_count": null,
   "metadata": {},
   "outputs": [],
   "source": []
  },
  {
   "cell_type": "code",
   "execution_count": null,
   "metadata": {},
   "outputs": [],
   "source": []
  },
  {
   "cell_type": "code",
   "execution_count": null,
   "metadata": {},
   "outputs": [],
   "source": []
  },
  {
   "cell_type": "code",
   "execution_count": null,
   "metadata": {},
   "outputs": [],
   "source": []
  },
  {
   "cell_type": "code",
   "execution_count": null,
   "metadata": {},
   "outputs": [],
   "source": []
  },
  {
   "cell_type": "code",
   "execution_count": null,
   "metadata": {},
   "outputs": [],
   "source": []
  },
  {
   "cell_type": "code",
   "execution_count": null,
   "metadata": {},
   "outputs": [],
   "source": []
  },
  {
   "cell_type": "code",
   "execution_count": null,
   "metadata": {},
   "outputs": [],
   "source": []
  },
  {
   "cell_type": "code",
   "execution_count": null,
   "metadata": {},
   "outputs": [],
   "source": []
  },
  {
   "cell_type": "code",
   "execution_count": null,
   "metadata": {},
   "outputs": [],
   "source": []
  },
  {
   "cell_type": "code",
   "execution_count": null,
   "metadata": {},
   "outputs": [],
   "source": []
  },
  {
   "cell_type": "code",
   "execution_count": null,
   "metadata": {},
   "outputs": [],
   "source": []
  },
  {
   "cell_type": "code",
   "execution_count": null,
   "metadata": {},
   "outputs": [],
   "source": []
  },
  {
   "cell_type": "code",
   "execution_count": null,
   "metadata": {},
   "outputs": [],
   "source": []
  },
  {
   "cell_type": "code",
   "execution_count": null,
   "metadata": {},
   "outputs": [],
   "source": []
  },
  {
   "cell_type": "code",
   "execution_count": null,
   "metadata": {},
   "outputs": [],
   "source": []
  },
  {
   "cell_type": "code",
   "execution_count": null,
   "metadata": {},
   "outputs": [],
   "source": []
  },
  {
   "cell_type": "code",
   "execution_count": null,
   "metadata": {},
   "outputs": [],
   "source": []
  },
  {
   "cell_type": "code",
   "execution_count": null,
   "metadata": {},
   "outputs": [],
   "source": []
  },
  {
   "cell_type": "code",
   "execution_count": null,
   "metadata": {},
   "outputs": [],
   "source": []
  },
  {
   "cell_type": "code",
   "execution_count": null,
   "metadata": {},
   "outputs": [],
   "source": []
  },
  {
   "cell_type": "code",
   "execution_count": null,
   "metadata": {},
   "outputs": [],
   "source": []
  },
  {
   "cell_type": "code",
   "execution_count": null,
   "metadata": {},
   "outputs": [],
   "source": []
  },
  {
   "cell_type": "code",
   "execution_count": null,
   "metadata": {},
   "outputs": [],
   "source": []
  },
  {
   "cell_type": "code",
   "execution_count": null,
   "metadata": {},
   "outputs": [],
   "source": []
  },
  {
   "cell_type": "code",
   "execution_count": null,
   "metadata": {},
   "outputs": [],
   "source": []
  },
  {
   "cell_type": "code",
   "execution_count": null,
   "metadata": {},
   "outputs": [],
   "source": []
  },
  {
   "cell_type": "code",
   "execution_count": 483,
   "metadata": {
    "execution": {
     "iopub.execute_input": "2024-10-01T10:04:37.898812Z",
     "iopub.status.busy": "2024-10-01T10:04:37.897547Z",
     "iopub.status.idle": "2024-10-01T10:04:37.928868Z",
     "shell.execute_reply": "2024-10-01T10:04:37.927455Z",
     "shell.execute_reply.started": "2024-10-01T10:04:37.898754Z"
    }
   },
   "outputs": [
    {
     "name": "stdout",
     "output_type": "stream",
     "text": [
      "{'A':      A    B    C\n",
      "5  100  200  300, 'B':      A    B    C\n",
      "5  100  200  300, 'C':      A    B    C\n",
      "5  100  200  300}\n"
     ]
    }
   ],
   "source": [
    "# Find Outliers in DataFrame\n",
    "\n",
    "import pandas as pd\n",
    "import numpy as np\n",
    "\n",
    "# Sample DataFrame\n",
    "data = {\n",
    "    'A': [1, 2, 3, 4, 5, 100],\n",
    "    'B': [10, 12, 14, 13, 15, 200],\n",
    "    'C': [5, 6, 7, 8, 9, 300]\n",
    "}\n",
    "\n",
    "df = pd.DataFrame(data)\n",
    "\n",
    "# Function to find outliers\n",
    "def find_outliers(df):\n",
    "    outliers = {}\n",
    "    for column in df.columns:\n",
    "        Q1 = df[column].quantile(0.25)\n",
    "        Q3 = df[column].quantile(0.75)\n",
    "        IQR = Q3 - Q1\n",
    "        lower_bound = Q1 - 1.5 * IQR\n",
    "        upper_bound = Q3 + 1.5 * IQR\n",
    "        outliers[column] = df[(df[column] < lower_bound) | (df[column] > upper_bound)]\n",
    "    return outliers\n",
    "\n",
    "# Get outliers\n",
    "outliers = find_outliers(df)\n",
    "print(outliers)"
   ]
  },
  {
   "cell_type": "code",
   "execution_count": null,
   "metadata": {},
   "outputs": [],
   "source": []
  }
 ],
 "metadata": {
  "kaggle": {
   "accelerator": "none",
   "dataSources": [
    {
     "datasetId": 5798337,
     "sourceId": 9522857,
     "sourceType": "datasetVersion"
    }
   ],
   "dockerImageVersionId": 30775,
   "isGpuEnabled": false,
   "isInternetEnabled": true,
   "language": "python",
   "sourceType": "notebook"
  },
  "kernelspec": {
   "display_name": "Python 3",
   "language": "python",
   "name": "python3"
  },
  "language_info": {
   "codemirror_mode": {
    "name": "ipython",
    "version": 3
   },
   "file_extension": ".py",
   "mimetype": "text/x-python",
   "name": "python",
   "nbconvert_exporter": "python",
   "pygments_lexer": "ipython3",
   "version": "3.12.6"
  }
 },
 "nbformat": 4,
 "nbformat_minor": 4
}
